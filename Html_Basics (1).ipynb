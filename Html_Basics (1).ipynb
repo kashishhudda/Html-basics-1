{
  "nbformat": 4,
  "nbformat_minor": 0,
  "metadata": {
    "colab": {
      "provenance": []
    },
    "kernelspec": {
      "name": "python3",
      "display_name": "Python 3"
    },
    "language_info": {
      "name": "python"
    }
  },
  "cells": [
    {
      "cell_type": "markdown",
      "source": [
        "# HTML Basics"
      ],
      "metadata": {
        "id": "InGdIACg_pW9"
      }
    },
    {
      "cell_type": "markdown",
      "source": [
        "1. Explain the basic structure of an HTML page. Why is it important to follow\n",
        "this structure?\n",
        "  - **Structure of an Html Document:**\n",
        "         \n",
        "\n",
        "   * Begins with <!DOCTYPE html>, followed by < html >, < head >, and < body > tags\n",
        "   * < html> is the root element, < head> contains meta-information, and < body >  displays content.\n",
        "   * <!DOCTYPE html> declares HTML5 document type.\n",
        "   * Ensuring proper tag closure avoids rendering issues.  \n",
        "\n",
        "  - **It is important to follow this structure beacuse:**\n",
        "\n",
        "*  It makes our page looks good.\n",
        "*  It helps browsers understand and show your web page properly.\n",
        "*  It makes code clean and easy to update easily."
      ],
      "metadata": {
        "id": "x-WTAvHO_wSw"
      }
    },
    {
      "cell_type": "markdown",
      "source": [
        "2. You’re building a small personal profile page. Which HTML tags will you\n",
        "use to highlight your name as a heading, describe yourself in a paragraph, and\n",
        "emphasize a key skill?\n",
        "\n",
        "  -  < h1 > tag  - for hihlighting name as heading.\n",
        "  - < p >   tag  - Adds a paragraph to describe ourselves.\n",
        "  - < em >  tag  - for emphasizing a key skill.\n",
        "\n",
        "\n",
        "\n"
      ],
      "metadata": {
        "id": "diQmtLV1CfKQ"
      }
    },
    {
      "cell_type": "markdown",
      "source": [
        "3. : Look at the code below. Can you find and fix the mistake?\n",
        "    <!-- This is an HTML comment\n",
        "    <h1>Welcome to my website</h1>\n",
        "    \n",
        "      - The comment is not closed properly.In HTML comment should start with < !-- and end with -- > but here in this code comment does not have ending so our heading comes under comment.\n",
        "      \n",
        "          "
      ],
      "metadata": {
        "id": "b4_7FEWfDpuW"
      }
    },
    {
      "cell_type": "code",
      "source": [
        "#You’re creating a form that asks the user to enter their name, select their country from a list, and click a button to submit. Write the HTML code for this.\n",
        "'''\n",
        " <!DOCTYPE html>\n",
        " <html lang=\"en\">\n",
        " <head>\n",
        "    <meta charset=\"UTF-8\">\n",
        "    <meta name=\"viewport\" content=\"width=device-width, initial-scale=1.0\">\n",
        "    <title>Document</title>\n",
        " </head>\n",
        "  <body>\n",
        "    <h2>User Info Form</h2>\n",
        "\n",
        "    <form>\n",
        "      <label for=\"name\">Name:</label>\n",
        "      <input type=\"text\" id=\"name\" name=\"name\" required />\n",
        "      <br>\n",
        "      <br>\n",
        "      <label for=\"country\">Country:</label>\n",
        "      <select id=\"country\" name=\"country\" required>\n",
        "        <option value=\"\">Select your Country</option>\n",
        "        <option value=\"india\">India</option>\n",
        "        <option value=\"can\">Canada</option>\n",
        "        <option value=\"sb\">Saudi Arabia</option>\n",
        "        <option value=\"africa\">Africa</option>\n",
        "      </select>\n",
        "      <br>\n",
        "      <br>\n",
        "      <button type=\"submit\">Submit</button>  <!-- Submit button -->\n",
        "    </form>\n",
        "  </body>\n",
        "</html>\n",
        "'''"
      ],
      "metadata": {
        "id": "PBcz1Ek09vAH"
      },
      "execution_count": null,
      "outputs": []
    },
    {
      "cell_type": "code",
      "source": [
        "# Write short HTML code to show your favorite fruits in a bulleted list and your top 3 programming languages in a numbered lis# <!DOCT\n",
        "'''\n",
        "<!DOCTYPE html>\n",
        "<html lang=\"en\">\n",
        "<head>\n",
        "    <meta charset=\"UTF-8\">\n",
        "    <meta name=\"viewport\" content=\"width=device-width, initial-scale=1.0\">\n",
        "    <title>Document</title>\n",
        "</head>\n",
        "<body>\n",
        "    <h3>Favourite Fruits:</h3>\n",
        "    <ul>\n",
        "        <li>Apple</li>\n",
        "        <li>Banana</li>\n",
        "        <li>Mango</li>\n",
        "    </ul>\n",
        "    <h3>Top 3 Programming Languages:</h3>\n",
        "    <ol>\n",
        "        <li>Python</li>\n",
        "        <li>Java</li>\n",
        "        <li>C++</li>\n",
        "    </ol>\n",
        "</body>\n",
        "</html>\n",
        "'''"
      ],
      "metadata": {
        "colab": {
          "base_uri": "https://localhost:8080/",
          "height": 70
        },
        "id": "CeUnBC9n9TwJ",
        "outputId": "22fce144-58dd-4fac-d5aa-1053382c7fde"
      },
      "execution_count": 1,
      "outputs": [
        {
          "output_type": "execute_result",
          "data": {
            "text/plain": [
              "'\\n<!DOCTYPE html>\\n<html lang=\"en\">\\n<head>\\n    <meta charset=\"UTF-8\">\\n    <meta name=\"viewport\" content=\"width=device-width, initial-scale=1.0\">\\n    <title>Document</title>\\n</head>\\n<body>\\n    <h3>Favourite Fruits:</h3>\\n    <ul>\\n        <li>Apple</li>\\n        <li>Banana</li>\\n        <li>Mango</li>\\n    </ul>\\n    <h3>Top 3 Programming Languages:</h3>\\n    <ol>\\n        <li>Python</li>\\n        <li>Java</li>\\n        <li>C++</li>\\n    </ol>\\n</body>\\n</html>\\n'"
            ],
            "application/vnd.google.colaboratory.intrinsic+json": {
              "type": "string"
            }
          },
          "metadata": {},
          "execution_count": 1
        }
      ]
    }
  ]
}